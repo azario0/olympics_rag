{
 "cells": [
  {
   "cell_type": "markdown",
   "metadata": {},
   "source": [
    "# Link to the database \n",
    "https://www.kaggle.com/datasets/ernestitus/2024-olympics-medals-vs-gdp\n",
    "\n",
    "# Get your api key from here : \n",
    "https://aistudio.google.com/app/apikey"
   ]
  },
  {
   "cell_type": "markdown",
   "metadata": {},
   "source": [
    "# Data consultation"
   ]
  },
  {
   "cell_type": "code",
   "execution_count": 32,
   "metadata": {},
   "outputs": [],
   "source": [
    "import pandas as pd"
   ]
  },
  {
   "cell_type": "code",
   "execution_count": 33,
   "metadata": {},
   "outputs": [],
   "source": [
    "data = pd.read_csv('olympics.csv')"
   ]
  },
  {
   "cell_type": "code",
   "execution_count": 4,
   "metadata": {},
   "outputs": [
    {
     "data": {
      "text/plain": [
       "country         0\n",
       "country_code    0\n",
       "region          0\n",
       "gold            0\n",
       "silver          0\n",
       "bronze          0\n",
       "total           0\n",
       "gdp             0\n",
       "gdp_year        0\n",
       "population      0\n",
       "dtype: int64"
      ]
     },
     "execution_count": 4,
     "metadata": {},
     "output_type": "execute_result"
    }
   ],
   "source": [
    "data.isnull().sum()"
   ]
  },
  {
   "cell_type": "code",
   "execution_count": 5,
   "metadata": {},
   "outputs": [
    {
     "data": {
      "text/html": [
       "<div>\n",
       "<style scoped>\n",
       "    .dataframe tbody tr th:only-of-type {\n",
       "        vertical-align: middle;\n",
       "    }\n",
       "\n",
       "    .dataframe tbody tr th {\n",
       "        vertical-align: top;\n",
       "    }\n",
       "\n",
       "    .dataframe thead th {\n",
       "        text-align: right;\n",
       "    }\n",
       "</style>\n",
       "<table border=\"1\" class=\"dataframe\">\n",
       "  <thead>\n",
       "    <tr style=\"text-align: right;\">\n",
       "      <th></th>\n",
       "      <th>country</th>\n",
       "      <th>country_code</th>\n",
       "      <th>region</th>\n",
       "      <th>gold</th>\n",
       "      <th>silver</th>\n",
       "      <th>bronze</th>\n",
       "      <th>total</th>\n",
       "      <th>gdp</th>\n",
       "      <th>gdp_year</th>\n",
       "      <th>population</th>\n",
       "    </tr>\n",
       "  </thead>\n",
       "  <tbody>\n",
       "    <tr>\n",
       "      <th>0</th>\n",
       "      <td>United States</td>\n",
       "      <td>USA</td>\n",
       "      <td>North America</td>\n",
       "      <td>40</td>\n",
       "      <td>44</td>\n",
       "      <td>42</td>\n",
       "      <td>126</td>\n",
       "      <td>81695.19</td>\n",
       "      <td>2023</td>\n",
       "      <td>334.9</td>\n",
       "    </tr>\n",
       "    <tr>\n",
       "      <th>1</th>\n",
       "      <td>China</td>\n",
       "      <td>CHN</td>\n",
       "      <td>Asia</td>\n",
       "      <td>40</td>\n",
       "      <td>27</td>\n",
       "      <td>24</td>\n",
       "      <td>91</td>\n",
       "      <td>12614.06</td>\n",
       "      <td>2023</td>\n",
       "      <td>1410.7</td>\n",
       "    </tr>\n",
       "    <tr>\n",
       "      <th>2</th>\n",
       "      <td>Japan</td>\n",
       "      <td>JPN</td>\n",
       "      <td>Asia</td>\n",
       "      <td>20</td>\n",
       "      <td>12</td>\n",
       "      <td>13</td>\n",
       "      <td>45</td>\n",
       "      <td>33834.39</td>\n",
       "      <td>2023</td>\n",
       "      <td>124.5</td>\n",
       "    </tr>\n",
       "    <tr>\n",
       "      <th>3</th>\n",
       "      <td>Australia</td>\n",
       "      <td>AUS</td>\n",
       "      <td>Oceania</td>\n",
       "      <td>18</td>\n",
       "      <td>19</td>\n",
       "      <td>16</td>\n",
       "      <td>53</td>\n",
       "      <td>64711.77</td>\n",
       "      <td>2023</td>\n",
       "      <td>26.6</td>\n",
       "    </tr>\n",
       "    <tr>\n",
       "      <th>4</th>\n",
       "      <td>France</td>\n",
       "      <td>FRA</td>\n",
       "      <td>Europe</td>\n",
       "      <td>16</td>\n",
       "      <td>26</td>\n",
       "      <td>22</td>\n",
       "      <td>64</td>\n",
       "      <td>44460.82</td>\n",
       "      <td>2023</td>\n",
       "      <td>68.2</td>\n",
       "    </tr>\n",
       "  </tbody>\n",
       "</table>\n",
       "</div>"
      ],
      "text/plain": [
       "         country country_code         region  gold  silver  bronze  total  \\\n",
       "0  United States          USA  North America    40      44      42    126   \n",
       "1          China          CHN           Asia    40      27      24     91   \n",
       "2          Japan          JPN           Asia    20      12      13     45   \n",
       "3      Australia          AUS        Oceania    18      19      16     53   \n",
       "4         France          FRA         Europe    16      26      22     64   \n",
       "\n",
       "        gdp  gdp_year  population  \n",
       "0  81695.19      2023       334.9  \n",
       "1  12614.06      2023      1410.7  \n",
       "2  33834.39      2023       124.5  \n",
       "3  64711.77      2023        26.6  \n",
       "4  44460.82      2023        68.2  "
      ]
     },
     "execution_count": 5,
     "metadata": {},
     "output_type": "execute_result"
    }
   ],
   "source": [
    "data.head()"
   ]
  },
  {
   "cell_type": "markdown",
   "metadata": {},
   "source": [
    "# The import needed"
   ]
  },
  {
   "cell_type": "code",
   "execution_count": null,
   "metadata": {},
   "outputs": [],
   "source": [
    "from typing import List, Dict\n",
    "from langchain_google_genai import GoogleGenerativeAI, GoogleGenerativeAIEmbeddings\n",
    "from langchain_community.vectorstores import FAISS\n",
    "from langchain.text_splitter import RecursiveCharacterTextSplitter\n",
    "from langchain.prompts import PromptTemplate\n",
    "from langchain.chains import RetrievalQA\n",
    "from langchain.schema import Document\n",
    "from tabulate import tabulate"
   ]
  },
  {
   "cell_type": "markdown",
   "metadata": {},
   "source": [
    "# Initialisation"
   ]
  },
  {
   "cell_type": "code",
   "execution_count": null,
   "metadata": {},
   "outputs": [],
   "source": [
    "# Initialize Google Embeddings\n",
    "initialize_embeddings = lambda api_key: GoogleGenerativeAIEmbeddings(\n",
    "    model=\"models/embedding-001\",\n",
    "    google_api_key=api_key,\n",
    "    task_type=\"retrieval_query\"\n",
    ")\n",
    "\n",
    "# Initialize LLM (Gemini Pro)\n",
    "initialize_llm = lambda api_key: GoogleGenerativeAI(\n",
    "    model=\"gemini-pro\",\n",
    "    google_api_key=api_key,\n",
    "    temperature=0.3,  # Lower temperature for more factual responses\n",
    "    top_p=0.9,\n",
    "    top_k=40,\n",
    "    max_output_tokens=2048,\n",
    ")\n"
   ]
  },
  {
   "cell_type": "markdown",
   "metadata": {},
   "source": [
    "# To convert the dataset to text"
   ]
  },
  {
   "cell_type": "code",
   "execution_count": null,
   "metadata": {},
   "outputs": [],
   "source": [
    "# Create text representation for each Olympic record\n",
    "create_text_representation = lambda row: (\n",
    "    f\"Country: {row['country']} ({row['country_code']}) in {row['region']} \"\n",
    "    f\"won {row['gold']} gold medals, {row['silver']} silver medals, and {row['bronze']} bronze medals \"\n",
    "    f\"in the Olympics, with a total of {row['total']} medals. \"\n",
    "    f\"The country's GDP is ${row['gdp']} trillion (as of {row['gdp_year']}) \"\n",
    "    f\"with a population of {row['population']} million people.\"\n",
    ")"
   ]
  },
  {
   "cell_type": "markdown",
   "metadata": {},
   "source": [
    "# To load the text and split it to chuncks"
   ]
  },
  {
   "cell_type": "code",
   "execution_count": null,
   "metadata": {},
   "outputs": [],
   "source": [
    "# Load and process Olympics data\n",
    "def load_and_process_olympics_data(df: pd.DataFrame) -> List[Document]:\n",
    "    documents = [Document(page_content=create_text_representation(row), metadata={\"country\": row[\"country\"], \"region\": row[\"region\"], \"total_medals\": row[\"total\"]}) for _, row in df.iterrows()]\n",
    "    text_splitter = RecursiveCharacterTextSplitter(chunk_size=1000, chunk_overlap=100, length_function=len)\n",
    "    return text_splitter.split_documents(documents)"
   ]
  },
  {
   "cell_type": "markdown",
   "metadata": {},
   "source": [
    "# Vectore store"
   ]
  },
  {
   "cell_type": "code",
   "execution_count": null,
   "metadata": {},
   "outputs": [],
   "source": [
    "# Create vector store\n",
    "create_vector_store = lambda documents, embeddings: FAISS.from_documents(documents, embeddings)\n",
    "\n",
    "# Save vector store to disk\n",
    "save_vector_store = lambda vector_store, path: vector_store.save_local(path)\n",
    "\n",
    "# Load vector store from disk\n",
    "load_vector_store = lambda path, embeddings: FAISS.load_local(path, embeddings)"
   ]
  },
  {
   "cell_type": "markdown",
   "metadata": {},
   "source": [
    "# QA retrieval chain and the query function"
   ]
  },
  {
   "cell_type": "code",
   "execution_count": null,
   "metadata": {},
   "outputs": [],
   "source": [
    "# Set up retrieval QA chain\n",
    "def setup_retrieval_qa(llm, vector_store) -> RetrievalQA:\n",
    "    prompt_template = \"\"\"You are an Olympics data expert. Use the following contextual information about Olympic medals, \n",
    "    GDP, and population to answer the question. Be precise with numbers and always mention the source country when relevant.\n",
    "    If you don't have enough information to answer accurately, please say so.\n",
    "    \n",
    "    Context: {context}\n",
    "    \n",
    "    Question: {question}\n",
    "    \n",
    "    Answer: \"\"\"\n",
    "    PROMPT = PromptTemplate(template=prompt_template, input_variables=[\"context\", \"question\"])\n",
    "    chain_type_kwargs = {\"prompt\": PROMPT}\n",
    "    return RetrievalQA.from_chain_type(\n",
    "        llm=llm,\n",
    "        chain_type=\"stuff\",\n",
    "        retriever=vector_store.as_retriever(search_kwargs={\"k\": 3}),\n",
    "        chain_type_kwargs=chain_type_kwargs,\n",
    "        return_source_documents=True\n",
    "    )\n",
    "\n",
    "# Query function\n",
    "def query_olympics(llm, vector_store, question: str) -> Dict:\n",
    "    if not vector_store:\n",
    "        raise ValueError(\"Vector store not initialized. Please create or load a vector store first.\")\n",
    "    qa_chain = setup_retrieval_qa(llm, vector_store)\n",
    "    result = qa_chain.invoke({\"query\": question})\n",
    "    return {\"answer\": result[\"result\"], \"source_documents\": result[\"source_documents\"]}"
   ]
  },
  {
   "cell_type": "markdown",
   "metadata": {},
   "source": [
    "# Processing "
   ]
  },
  {
   "cell_type": "code",
   "execution_count": 30,
   "metadata": {},
   "outputs": [],
   "source": [
    "# Your Olympics DataFrame\n",
    "data = pd.read_csv('olympics.csv')\n",
    "# Initialize RAG system\n",
    "GOOGLE_API_KEY = \"YOUR_API_KEY\"  # Replace with your API key\n",
    "# Process documents and embeddings\n",
    "embeddings = initialize_embeddings(GOOGLE_API_KEY)\n",
    "llm = initialize_llm(GOOGLE_API_KEY)\n",
    "documents = load_and_process_olympics_data(data)\n",
    "# Create vector store\n",
    "vector_store = create_vector_store(documents, embeddings)\n",
    "# Optional: Save vector store\n",
    "save_vector_store(vector_store, \"olympics_vector_store\")"
   ]
  },
  {
   "cell_type": "markdown",
   "metadata": {},
   "source": [
    "# Testing :"
   ]
  },
  {
   "cell_type": "code",
   "execution_count": 31,
   "metadata": {},
   "outputs": [
    {
     "name": "stdout",
     "output_type": "stream",
     "text": [
      "\n",
      "\u001b[1mAnswer:\u001b[0m\n",
      "- France (FRA)\n",
      "- Belgium (BEL)\n",
      "- Germany (DEU)\n",
      "\n",
      "\u001b[1mSource Documents Metadata:\u001b[0m\n",
      "+----+-----------+----------+----------------+\n",
      "|    | Country   | Region   |   Total Medals |\n",
      "+====+===========+==========+================+\n",
      "|  0 | France    | Europe   |             64 |\n",
      "+----+-----------+----------+----------------+\n",
      "|  1 | Belgium   | Europe   |             10 |\n",
      "+----+-----------+----------+----------------+\n",
      "|  2 | Germany   | Europe   |             33 |\n",
      "+----+-----------+----------+----------------+\n",
      "\n",
      "\u001b[1mSource Document 1:\u001b[0m\n",
      "\u001b[3mCountry:\u001b[0m France\n",
      "\u001b[3mRegion:\u001b[0m Europe\n",
      "\u001b[3mTotal Medals:\u001b[0m 64\n",
      "\u001b[3mDocument Content:\u001b[0m\n",
      "Country: France (FRA) in Europe won 16 gold medals, 26 silver medals, and 22 bronze medals in the Olympics, with a total of 64 medals. The country's GDP is $44460.82 trillion (as of 2023) with a population of 68.2 million people.\n",
      "\n",
      "\n",
      "\u001b[1mSource Document 2:\u001b[0m\n",
      "\u001b[3mCountry:\u001b[0m Belgium\n",
      "\u001b[3mRegion:\u001b[0m Europe\n",
      "\u001b[3mTotal Medals:\u001b[0m 10\n",
      "\u001b[3mDocument Content:\u001b[0m\n",
      "Country: Belgium (BEL) in Europe won 3 gold medals, 1 silver medals, and 6 bronze medals in the Olympics, with a total of 10 medals. The country's GDP is $53475.29 trillion (as of 2023) with a population of 11.8 million people.\n",
      "\n",
      "\n",
      "\u001b[1mSource Document 3:\u001b[0m\n",
      "\u001b[3mCountry:\u001b[0m Germany\n",
      "\u001b[3mRegion:\u001b[0m Europe\n",
      "\u001b[3mTotal Medals:\u001b[0m 33\n",
      "\u001b[3mDocument Content:\u001b[0m\n",
      "Country: Germany (DEU) in Europe won 12 gold medals, 13 silver medals, and 8 bronze medals in the Olympics, with a total of 33 medals. The country's GDP is $52745.76 trillion (as of 2023) with a population of 84.5 million people.\n",
      "\n"
     ]
    }
   ],
   "source": [
    "# Function to format and print the results with full source documents\n",
    "def print_query_results(result: Dict):\n",
    "    # Extract and print the answer\n",
    "    print(\"\\n\\033[1mAnswer:\\033[0m\")\n",
    "    print(f\"{result['answer']}\\n\")\n",
    "    \n",
    "    # Extract source documents\n",
    "    sources = result['source_documents']\n",
    "    \n",
    "    # Create a table with metadata from source documents\n",
    "    source_data = []\n",
    "    for doc in sources:\n",
    "        source_data.append({\n",
    "            \"Country\": doc.metadata.get(\"country\"),\n",
    "            \"Region\": doc.metadata.get(\"region\"),\n",
    "            \"Total Medals\": doc.metadata.get(\"total_medals\")\n",
    "        })\n",
    "    \n",
    "    # Convert the source data into a DataFrame for better visualization\n",
    "    df_sources = pd.DataFrame(source_data)\n",
    "    \n",
    "    # Display source document metadata in a table\n",
    "    print(\"\\033[1mSource Documents Metadata:\\033[0m\")\n",
    "    print(tabulate(df_sources, headers=\"keys\", tablefmt=\"grid\"))\n",
    "    \n",
    "    # Display the full content of each source document\n",
    "    for i, doc in enumerate(sources, 1):\n",
    "        print(f\"\\n\\033[1mSource Document {i}:\\033[0m\")\n",
    "        print(f\"\\033[3mCountry:\\033[0m {doc.metadata.get('country')}\")\n",
    "        print(f\"\\033[3mRegion:\\033[0m {doc.metadata.get('region')}\")\n",
    "        print(f\"\\033[3mTotal Medals:\\033[0m {doc.metadata.get('total_medals')}\")\n",
    "        print(f\"\\033[3mDocument Content:\\033[0m\\n{doc.page_content}\\n\")\n",
    "    \n",
    "# Example query to test\n",
    "question = \"wich countries from europe won a medal  ?\"\n",
    "result = query_olympics(llm, vector_store, question)\n",
    "\n",
    "# Print the result in a modern, visual way\n",
    "print_query_results(result)\n"
   ]
  },
  {
   "cell_type": "code",
   "execution_count": null,
   "metadata": {},
   "outputs": [],
   "source": []
  }
 ],
 "metadata": {
  "kernelspec": {
   "display_name": "Python 3",
   "language": "python",
   "name": "python3"
  },
  "language_info": {
   "codemirror_mode": {
    "name": "ipython",
    "version": 3
   },
   "file_extension": ".py",
   "mimetype": "text/x-python",
   "name": "python",
   "nbconvert_exporter": "python",
   "pygments_lexer": "ipython3",
   "version": "3.10.12"
  }
 },
 "nbformat": 4,
 "nbformat_minor": 2
}
